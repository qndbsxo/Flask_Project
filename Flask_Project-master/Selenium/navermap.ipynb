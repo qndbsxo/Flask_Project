{
    "cells": [
        {
            "cell_type": "code",
            "execution_count": 8,
            "source": [
                "\r\n",
                "# 네이버 지도 데이터 수집하기\r\n",
                "from selenium import webdriver\r\n",
                "from selenium.webdriver.common.keys import Keys\r\n",
                "\r\n",
                "import pandas as pd\r\n",
                "\r\n",
                "# set option \r\n",
                "options = webdriver.ChromeOptions()\r\n",
                "## 사람처럼 보이게 하는 옵션들\r\n",
                "options.add_argument(\"disable-gpu\") # 가속 사용x\r\n",
                "options.add_argument(\"lang=ko_KR\") # 가짜 플러그인 탑재\r\n",
                "driver = webdriver.Chrome('chromedriver.exe') # 드라이버 생성\r\n",
                "\r\n",
                "\r\n",
                "# 검색할 회사목록 리스트화\r\n",
                "df_company = pd.read_csv('company2.csv')\r\n",
                "list_company = df_company['회사명'].tolist()\r\n",
                "\r\n",
                "\r\n",
                "\r\n",
                "# 구버전 네이버 지도 접속\r\n",
                "driver.get(\"https://v4.map.naver.com\")\r\n",
                "\r\n",
                "# 네이버 지도 업데이트 안내 메시지 끄기\r\n",
                "driver.find_elements_by_css_selector('button.btn_close')[1].click()\r\n",
                "\r\n",
                "# 검색창에 검색어 입력하기 // 검색창: input#search-input\r\n",
                "search_box = driver.find_element_by_css_selector(\"input#search-input\")\r\n",
                "\r\n",
                "\r\n",
                "search_box.send_keys(\"치킨\")\r\n",
                "# 검색버튼 누르기 // 검색버튼: button.spm\r\n",
                "search_button = driver.find_element_by_css_selector('button.spm')\r\n",
                "search_button.click()\r\n",
                "\r\n",
                "# 컨테이너(가게 정보 ) 수\r\n",
                "stores = driver.find_elements_by_css_selector(\"div.lsnx\")\r\n",
                "\r\n",
                "result = [] \r\n",
                "for store in stores :\r\n",
                "\t# 세부 데이터 수집\r\n",
                "\tname = store.find_element_by_css_selector(\"dt > a\").text\r\n",
                "\taddr = store.find_element_by_css_selector(\"dd.addr\").text\r\n",
                "\tphone = store.find_element_by_css_selector(\"dd.tel\").text\r\n",
                "\t\r\n",
                "\tprint(name, addr, phone)\r\n",
                "\r\n",
                "driver.close()\r\n",
                "# while True :\r\n",
                "\t# pass\r\n"
            ],
            "outputs": [
                {
                    "output_type": "stream",
                    "name": "stdout",
                    "text": [
                        "BBQ학익점 인천광역시 미추홀구 소성로185번길 5 1층 지번 032-875-9281\n",
                        "맘스터치 학익동점 인천광역시 미추홀구 한나루로357번길 5-22 지번 032-861-7272\n",
                        "굽네치킨 학익점 인천광역시 미추홀구 소성로 168 지번 0504-3143-7952\n",
                        "네네치킨 학익점 인천광역시 미추홀구 소성로 175-16 지번 032-862-6565\n",
                        "맛있닭두마리 인천광역시 미추홀구 매소홀로418번길 14-13 학익2차 현광아파트 지번 032-872-9990\n",
                        "둘둘치킨 학산점 인천광역시 미추홀구 한나루로 353-1 지번 032-873-2292\n",
                        "60계치킨 인천학익점 인천광역시 미추홀구 한나루로 353 101호 지번 032-467-6061\n",
                        "야들리애치킨 학익점 인천광역시 미추홀구 매소홀로 355 학익프라자 113호 지번 032-868-8289\n",
                        "닭집에 떡볶이 학익점 인천광역시 미추홀구 매소홀로 355 지번 032-876-7747\n",
                        "또봉이통닭 인천학익점 인천광역시 미추홀구 소성로 204 지번 032-863-9296\n"
                    ]
                }
            ],
            "metadata": {}
        },
        {
            "cell_type": "code",
            "execution_count": null,
            "source": [],
            "outputs": [],
            "metadata": {}
        }
    ],
    "metadata": {
        "orig_nbformat": 4,
        "language_info": {
            "name": "python",
            "version": "3.7.10",
            "mimetype": "text/x-python",
            "codemirror_mode": {
                "name": "ipython",
                "version": 3
            },
            "pygments_lexer": "ipython3",
            "nbconvert_exporter": "python",
            "file_extension": ".py"
        },
        "kernelspec": {
            "name": "python3",
            "display_name": "Python 3.7.10 64-bit ('flaskCorona': conda)"
        },
        "interpreter": {
            "hash": "0efe65c296c1a3f51085093ea0d54a5244eac8583adc1d01ab27ab2031869b77"
        }
    },
    "nbformat": 4,
    "nbformat_minor": 2
}